{
 "cells": [
  {
   "cell_type": "code",
   "execution_count": 1,
   "id": "6bb1b983-3cd3-4176-9136-a8297a43c649",
   "metadata": {},
   "outputs": [],
   "source": [
    "x = 5"
   ]
  },
  {
   "cell_type": "code",
   "execution_count": 2,
   "id": "62b516c7-5d22-4bd1-afe2-1a5744eadfe9",
   "metadata": {},
   "outputs": [
    {
     "name": "stdout",
     "output_type": "stream",
     "text": [
      "5\n"
     ]
    }
   ],
   "source": [
    "print(x)"
   ]
  },
  {
   "cell_type": "code",
   "execution_count": 3,
   "id": "d21d6498-d0aa-42da-b2a9-a0e72155e58b",
   "metadata": {},
   "outputs": [
    {
     "data": {
      "text/plain": [
       "int"
      ]
     },
     "execution_count": 3,
     "metadata": {},
     "output_type": "execute_result"
    }
   ],
   "source": [
    "type(x)"
   ]
  },
  {
   "cell_type": "code",
   "execution_count": 4,
   "id": "2f8d5a20-0bef-4950-8977-431af8c6a9cd",
   "metadata": {},
   "outputs": [],
   "source": [
    "y = 10"
   ]
  },
  {
   "cell_type": "code",
   "execution_count": 5,
   "id": "43b0f247-c06a-4a99-a262-772caa415bab",
   "metadata": {},
   "outputs": [
    {
     "name": "stdout",
     "output_type": "stream",
     "text": [
      "10\n"
     ]
    }
   ],
   "source": [
    "print(y)"
   ]
  },
  {
   "cell_type": "code",
   "execution_count": 6,
   "id": "260064bc-d3d0-47cd-9e0e-525ede847a35",
   "metadata": {},
   "outputs": [],
   "source": [
    "z = x+y"
   ]
  },
  {
   "cell_type": "code",
   "execution_count": 7,
   "id": "38f4badf-f871-4d63-9621-a6595c12234d",
   "metadata": {},
   "outputs": [
    {
     "name": "stdout",
     "output_type": "stream",
     "text": [
      "15\n"
     ]
    }
   ],
   "source": [
    "print(z)"
   ]
  },
  {
   "cell_type": "code",
   "execution_count": 12,
   "id": "397300f0-82cb-467a-b1e6-4eb63644c870",
   "metadata": {},
   "outputs": [],
   "source": [
    "x: str= '5'"
   ]
  },
  {
   "cell_type": "code",
   "execution_count": 13,
   "id": "863b4ba8-519c-4c33-a213-f9d90ec5842c",
   "metadata": {},
   "outputs": [
    {
     "data": {
      "text/plain": [
       "str"
      ]
     },
     "execution_count": 13,
     "metadata": {},
     "output_type": "execute_result"
    }
   ],
   "source": [
    "type(x)"
   ]
  },
  {
   "cell_type": "code",
   "execution_count": 14,
   "id": "f1ffef46-311b-4bfe-a225-895a2ed7204f",
   "metadata": {},
   "outputs": [],
   "source": [
    "lw = 65"
   ]
  },
  {
   "cell_type": "code",
   "execution_count": 15,
   "id": "87e73821-ac52-4054-9d4b-3cc95ff1f134",
   "metadata": {},
   "outputs": [
    {
     "data": {
      "text/plain": [
       "65"
      ]
     },
     "execution_count": 15,
     "metadata": {},
     "output_type": "execute_result"
    }
   ],
   "source": [
    "lw"
   ]
  },
  {
   "cell_type": "code",
   "execution_count": 35,
   "id": "55da801d-f168-4299-9b8e-aab69396f215",
   "metadata": {},
   "outputs": [],
   "source": [
    "mob = [111,222,222,333,444,555]"
   ]
  },
  {
   "cell_type": "code",
   "execution_count": 36,
   "id": "4d392546-0a19-44aa-95c2-0c3692e4ffc8",
   "metadata": {},
   "outputs": [
    {
     "data": {
      "text/plain": [
       "[111, 222, 222, 333, 444, 555]"
      ]
     },
     "execution_count": 36,
     "metadata": {},
     "output_type": "execute_result"
    }
   ],
   "source": [
    "mob       #print all the elements of the list"
   ]
  },
  {
   "cell_type": "code",
   "execution_count": 37,
   "id": "c37c09ba-2e9c-40a9-a960-de32c3c9f872",
   "metadata": {},
   "outputs": [],
   "source": [
    "mob.append(5969)"
   ]
  },
  {
   "cell_type": "code",
   "execution_count": 38,
   "id": "37cd3387-721b-4689-903c-4e62a558d7f3",
   "metadata": {},
   "outputs": [
    {
     "data": {
      "text/plain": [
       "[111, 222, 222, 333, 444, 555, 5969]"
      ]
     },
     "execution_count": 38,
     "metadata": {},
     "output_type": "execute_result"
    }
   ],
   "source": [
    "mob"
   ]
  },
  {
   "cell_type": "code",
   "execution_count": 42,
   "id": "73a913b1-1082-4980-85ce-da056b6470c7",
   "metadata": {},
   "outputs": [],
   "source": [
    "mob.remove(222)"
   ]
  },
  {
   "cell_type": "code",
   "execution_count": 43,
   "id": "5aff0b55-7f96-4c3e-b747-d748918754f9",
   "metadata": {},
   "outputs": [
    {
     "data": {
      "text/plain": [
       "[111, 333, 444, 555, 5969]"
      ]
     },
     "execution_count": 43,
     "metadata": {},
     "output_type": "execute_result"
    }
   ],
   "source": [
    "mob"
   ]
  },
  {
   "cell_type": "code",
   "execution_count": 44,
   "id": "36f6bf61-50a0-44df-82dc-5bd7153fad55",
   "metadata": {},
   "outputs": [
    {
     "data": {
      "text/plain": [
       "5969"
      ]
     },
     "execution_count": 44,
     "metadata": {},
     "output_type": "execute_result"
    }
   ],
   "source": [
    "mob.pop()"
   ]
  },
  {
   "cell_type": "code",
   "execution_count": 45,
   "id": "7cd97238-d829-4379-80b2-51e0c85e6aca",
   "metadata": {},
   "outputs": [],
   "source": [
    "name = [\"pop\",\"jack\",\"tom\",1111,2222,\"ram\"]"
   ]
  },
  {
   "cell_type": "code",
   "execution_count": 46,
   "id": "473c49b4-6fd9-4f00-8b35-e725020eb245",
   "metadata": {},
   "outputs": [
    {
     "data": {
      "text/plain": [
       "['pop', 'jack', 'tom', 1111, 2222, 'ram']"
      ]
     },
     "execution_count": 46,
     "metadata": {},
     "output_type": "execute_result"
    }
   ],
   "source": [
    "name"
   ]
  },
  {
   "cell_type": "code",
   "execution_count": 47,
   "id": "9b8d65a2-e667-4097-81e3-1ebc42769112",
   "metadata": {},
   "outputs": [],
   "source": [
    "name[1]= \"jack1\""
   ]
  },
  {
   "cell_type": "code",
   "execution_count": 48,
   "id": "47adac5f-fd2d-462c-b106-268dc682a0e9",
   "metadata": {},
   "outputs": [
    {
     "data": {
      "text/plain": [
       "['pop', 'jack1', 'tom', 1111, 2222, 'ram']"
      ]
     },
     "execution_count": 48,
     "metadata": {},
     "output_type": "execute_result"
    }
   ],
   "source": [
    "name"
   ]
  },
  {
   "cell_type": "code",
   "execution_count": 1,
   "id": "f94481de-337c-4a8f-b6fe-ddcdd4567406",
   "metadata": {},
   "outputs": [],
   "source": [
    "db = [\n",
    "    [\"tom\", 1111 , \"ok\"],\n",
    "    [\"rahul\", 2222, \"good\"],\n",
    "    [\"krish\", 3333, \"vgood\"],\n",
    "    [\"pop\", 4444, \"ok\"]\n",
    "]\n",
    "\n",
    "\n"
   ]
  },
  {
   "cell_type": "code",
   "execution_count": 2,
   "id": "91a9ea06-bc02-495e-be82-6360540a3a47",
   "metadata": {},
   "outputs": [
    {
     "data": {
      "text/plain": [
       "[['tom', 1111, 'ok'],\n",
       " ['rahul', 2222, 'good'],\n",
       " ['krish', 3333, 'vgood'],\n",
       " ['pop', 4444, 'ok']]"
      ]
     },
     "execution_count": 2,
     "metadata": {},
     "output_type": "execute_result"
    }
   ],
   "source": [
    "db"
   ]
  },
  {
   "cell_type": "code",
   "execution_count": 9,
   "id": "d332eb83-60fb-4fc2-a8f6-4157a04f7e04",
   "metadata": {},
   "outputs": [],
   "source": [
    "import numpy\n"
   ]
  },
  {
   "cell_type": "code",
   "execution_count": null,
   "id": "7f5e294a-4162-46f0-bb05-5087bab6219a",
   "metadata": {},
   "outputs": [],
   "source": []
  }
 ],
 "metadata": {
  "kernelspec": {
   "display_name": "Python 3 (ipykernel)",
   "language": "python",
   "name": "python3"
  },
  "language_info": {
   "codemirror_mode": {
    "name": "ipython",
    "version": 3
   },
   "file_extension": ".py",
   "mimetype": "text/x-python",
   "name": "python",
   "nbconvert_exporter": "python",
   "pygments_lexer": "ipython3",
   "version": "3.12.7"
  }
 },
 "nbformat": 4,
 "nbformat_minor": 5
}
